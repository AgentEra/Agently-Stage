{
 "cells": [
  {
   "cell_type": "code",
   "execution_count": 2,
   "metadata": {},
   "outputs": [
    {
     "name": "stdout",
     "output_type": "stream",
     "text": [
      "Start Simulate Sync Long Time Task...\n",
      "Start Simulate Async Network Request...\n",
      "Response Return...\n",
      "Task Done...\n",
      "Network Request Data: Your input is Agently Stage is awesome! | Task Result: 3\n"
     ]
    }
   ],
   "source": [
    "import time\n",
    "import asyncio\n",
    "from agently_stage import Stage\n",
    "\n",
    "async def async_task(input_sentence:str):\n",
    "    print(\"Start Simulate Async Network Request...\")\n",
    "    await asyncio.sleep(1)\n",
    "    print(\"Response Return...\")\n",
    "    return f\"Network Request Data: Your input is { input_sentence }\"\n",
    "\n",
    "def sync_task(a:int, b:int):\n",
    "    print(\"Start Simulate Sync Long Time Task...\")\n",
    "    time.sleep(2)\n",
    "    print(\"Task Done...\")\n",
    "    return f\"Task Result: { a + b }\"\n",
    "\n",
    "stage = Stage()\n",
    "async_response = stage.go(async_task, \"Agently Stage is awesome!\")\n",
    "sync_response = stage.go(sync_task, 1, 2)\n",
    "stage.close()\n",
    "#Try remove this line below, it'll work perfectly too.\n",
    "print(async_response.get(), \"|\", sync_response.get())"
   ]
  },
  {
   "cell_type": "code",
   "execution_count": 3,
   "metadata": {},
   "outputs": [
    {
     "name": "stdout",
     "output_type": "stream",
     "text": [
      "Start Simulate Sync Long Time Task...\n",
      "Start Simulate Async Network Request...\n",
      "Response Return...\n",
      "Task Done...\n",
      "Network Request Data: Your input is Agently Stage is awesome! | Task Result: 3\n"
     ]
    }
   ],
   "source": [
    "import time\n",
    "import asyncio\n",
    "from agently_stage import Stage\n",
    "\n",
    "with Stage() as stage:\n",
    "    async def async_task(input_sentence:str):\n",
    "        print(\"Start Simulate Async Network Request...\")\n",
    "        await asyncio.sleep(1)\n",
    "        print(\"Response Return...\")\n",
    "        return f\"Network Request Data: Your input is { input_sentence }\"\n",
    "\n",
    "    def sync_task(a:int, b:int):\n",
    "        print(\"Start Simulate Sync Long Time Task...\")\n",
    "        time.sleep(2)\n",
    "        print(\"Task Done...\")\n",
    "        return f\"Task Result: { a + b }\"\n",
    "\n",
    "    async_response = stage.go(async_task, \"Agently Stage is awesome!\")\n",
    "    sync_response = stage.go(sync_task, 1, 2)\n",
    "\n",
    "print(async_response.get(), \"|\", sync_response.get())"
   ]
  },
  {
   "cell_type": "code",
   "execution_count": 3,
   "metadata": {},
   "outputs": [
    {
     "name": "stdout",
     "output_type": "stream",
     "text": [
      "Done: First\n",
      "Done: First\n",
      "Done: Second\n"
     ]
    }
   ],
   "source": [
    "import time\n",
    "from agently_stage import Stage\n",
    "stage = Stage()\n",
    "\n",
    "@stage.func\n",
    "def task(sentence:str):\n",
    "    time.sleep(1)\n",
    "    return f\"Done: { sentence }\"\n",
    "\n",
    "# Defined but hasn't run\n",
    "task\n",
    "\n",
    "# Start running\n",
    "task.go(\"First\")\n",
    "# or just `task()` like call a function normally\n",
    "\n",
    "# Block current thread and wait until done to get result\n",
    "result = task.wait()\n",
    "print(result)\n",
    "\n",
    "# Wait again won't restart it\n",
    "result_2 = task.wait()\n",
    "print(result_2)\n",
    "\n",
    "# Reset make the function can be started again\n",
    "task.reset()\n",
    "task(\"Second\")\n",
    "result_3 = task.wait()\n",
    "print(result_3)"
   ]
  },
  {
   "cell_type": "code",
   "execution_count": 4,
   "metadata": {},
   "outputs": [
    {
     "name": "stdout",
     "output_type": "stream",
     "text": [
      "Someone said: StageFunction is useful!\n"
     ]
    }
   ],
   "source": [
    "import time\n",
    "import asyncio\n",
    "from agently_stage import Stage\n",
    "\n",
    "# We create a handler in one dispatch\n",
    "with Stage() as stage_1:\n",
    "    @stage_1.func\n",
    "    async def handler(sentence):\n",
    "        return f\"Someone said: { sentence }\"\n",
    "    \n",
    "# We wait this handler in another dispatch\n",
    "with Stage() as stage_2:\n",
    "    def waiting():\n",
    "        result = handler.wait()\n",
    "        print(result)\n",
    "    stage_2.go(waiting)\n",
    "    # Some uncertain time later, the handler is called\n",
    "    time.sleep(1)\n",
    "    async def executor():\n",
    "        await asyncio.sleep(1)\n",
    "        handler(\"StageFunction is useful!\")\n",
    "    stage_2.go(executor)"
   ]
  },
  {
   "cell_type": "code",
   "execution_count": 5,
   "metadata": {},
   "outputs": [
    {
     "name": "stdout",
     "output_type": "stream",
     "text": [
      "1\n",
      "2\n",
      "3\n",
      "4\n",
      "5\n"
     ]
    }
   ],
   "source": [
    "import asyncio\n",
    "from agently_stage import Stage\n",
    "with Stage() as stage:\n",
    "    async def start_gen(n:int):\n",
    "        for i in range(n):\n",
    "            await asyncio.sleep(1)\n",
    "            yield i+1\n",
    "    gen = stage.go(start_gen, 5)\n",
    "    for item in gen:\n",
    "        print(item)"
   ]
  },
  {
   "cell_type": "code",
   "execution_count": 6,
   "metadata": {},
   "outputs": [
    {
     "name": "stdout",
     "output_type": "stream",
     "text": [
      "[1, 2, 3, 4, 5]\n"
     ]
    }
   ],
   "source": [
    "import asyncio\n",
    "from agently_stage import Stage\n",
    "with Stage() as stage:\n",
    "    async def start_gen(n:int):\n",
    "        for i in range(n):\n",
    "            await asyncio.sleep(1)\n",
    "            yield i+1\n",
    "    gen = stage.go(start_gen, 5)\n",
    "    result_list = gen.get()\n",
    "    print(result_list)"
   ]
  },
  {
   "cell_type": "code",
   "execution_count": 7,
   "metadata": {},
   "outputs": [
    {
     "name": "stdout",
     "output_type": "stream",
     "text": [
      "1\n",
      "2\n",
      "3\n",
      "4\n",
      "5\n"
     ]
    }
   ],
   "source": [
    "import time\n",
    "import asyncio\n",
    "from agently_stage import Stage\n",
    "with Stage() as stage:\n",
    "    async def start_gen(n:int):\n",
    "        for i in range(n):\n",
    "            await asyncio.sleep(1)\n",
    "            yield i+1\n",
    "    gen = stage.go(start_gen, 5, lazy=True)\n",
    "    time.sleep(5)\n",
    "    # Generator function `start_gen` start here only when gen is iterated over by `for`\n",
    "    for item in gen:\n",
    "        print(item)"
   ]
  },
  {
   "cell_type": "code",
   "execution_count": 1,
   "metadata": {},
   "outputs": [
    {
     "name": "stdout",
     "output_type": "stream",
     "text": [
      "GO CONSUMER\n",
      "GO A CONSUMER\n",
      "GO PROVIDER\n",
      "async streaming: 1\n",
      "async streaming: 2\n",
      "async streaming: 3\n",
      "async streaming: 4\n",
      "async streaming: 5\n",
      "streaming: 1\n",
      "streaming: 2\n",
      "streaming: 3\n",
      "streaming: 4\n",
      "streaming: 5\n",
      "1\n"
     ]
    }
   ],
   "source": [
    "import time\n",
    "import asyncio\n",
    "from agently_stage import Stage, Tunnel\n",
    "\n",
    "tunnel = Tunnel()\n",
    "\n",
    "with Stage() as stage:\n",
    "    def consumer():\n",
    "        print(\"GO CONSUMER\")\n",
    "        time.sleep(1)\n",
    "        # You can use `tunnel.get_gen()` to get a `StageHybridGenerator` from tunnel instance\n",
    "        gen = tunnel.get_generator()\n",
    "        for data in gen:\n",
    "            print(\"streaming:\", data)\n",
    "    \n",
    "    async def async_consumer():\n",
    "        print(\"GO A CONSUMER\")\n",
    "        # Or you can just iterate over tunnel data by `for`/`async for`\n",
    "        async for data in tunnel:\n",
    "            print(\"async streaming:\", data)\n",
    "\n",
    "    async def provider(n:int):\n",
    "        print(\"GO PROVIDER\")\n",
    "        for i in range(n):\n",
    "            tunnel.put(i + 1)\n",
    "            await asyncio.sleep(0.1)\n",
    "        # If you forget to .put_stop(), tunnel will close after 10s by default\n",
    "        tunnel.put_stop() \n",
    "\n",
    "    # State consumer first\n",
    "    stage.go(consumer)\n",
    "    stage.go(async_consumer)\n",
    "    # Provider start providing data sometime later\n",
    "    time.sleep(1)\n",
    "    stage.get(provider, 5)\n",
    "\n",
    "# You can also use `tunnel.get()` to get a final yielded item list\n",
    "print(tunnel.get()[0])"
   ]
  },
  {
   "cell_type": "code",
   "execution_count": 1,
   "metadata": {},
   "outputs": [
    {
     "name": "stdout",
     "output_type": "stream",
     "text": [
      "I got: EventEmitter is Cool!\n",
      "I got: I'll say it again, EventEmitter is Cool!\n",
      "True\n"
     ]
    }
   ],
   "source": [
    "from agently_stage import Stage, EventEmitter\n",
    "\n",
    "emitter = EventEmitter()\n",
    "\n",
    "async def listener(data):\n",
    "    print(f\"I got: { data }\")\n",
    "    # You can return value to emitter\n",
    "    return True\n",
    "\n",
    "emitter.on(\"data\", listener)\n",
    "\n",
    "with Stage() as stage:\n",
    "    stage.go(lambda: emitter.emit(\"data\", \"EventEmitter is Cool!\"))\n",
    "\n",
    "responses = emitter.emit(\"data\", \"I'll say it again, EventEmitter is Cool!\")\n",
    "\n",
    "# Get responses from all event listeners\n",
    "for response in responses:\n",
    "    print(response.get())"
   ]
  },
  {
   "cell_type": "code",
   "execution_count": 4,
   "metadata": {},
   "outputs": [
    {
     "name": "stdout",
     "output_type": "stream",
     "text": [
      "Async Task 0 started\n",
      "Async Task 1 started\n",
      "Async Task 2 started\n",
      "Async Task 3 started\n",
      "Async Task 4 started\n",
      "Async Task 5 started\n",
      "Async Task 6 started\n",
      "Async Task 7 started\n",
      "Async Task 8 started\n",
      "Async Task 9 started\n",
      "Async Task 10 started\n",
      "Async Task 11 started\n",
      "Async Task 12 started\n",
      "Async Task 13 started\n",
      "Async Task 14 started\n",
      "Async Task 15 started\n",
      "Async Task 16 started\n",
      "Async Task 17 started\n",
      "Async Task 18 started\n",
      "Async Task 19 started\n"
     ]
    },
    {
     "name": "stdout",
     "output_type": "stream",
     "text": [
      "Async Task 18 completed\n",
      "Async Task 16 completed\n",
      "Async Task 6 completed\n",
      "Async Task 9 completed\n",
      "Async Task 0 completed\n",
      "Async Task 10 completed\n",
      "Async Task 12 completed\n",
      "Async Task 7 completed\n",
      "Async Task 19 completed\n",
      "Async Task 2 completed\n",
      "Async Task 1 completed\n",
      "Async Task 3 completed\n",
      "Async Task 8 completed\n",
      "Async Task 15 completed\n",
      "Async Task 11 completed\n",
      "Async Task 4 completed\n",
      "Async Task 17 completed\n",
      "Async Task 14 completed\n",
      "Async Task 13 completed\n",
      "Async Task 5 completed\n"
     ]
    }
   ],
   "source": [
    "# Stress Testing\n",
    "import time\n",
    "import asyncio\n",
    "import random\n",
    "from agently_stage import Stage\n",
    "\n",
    "def sample_task(task_id):\n",
    "    \"\"\"Simulate sync task with random delay\"\"\"\n",
    "    print(f\"Sync Task {task_id} started\")\n",
    "    time.sleep(random.uniform(0.1, 0.5))\n",
    "    print(f\"Sync Task {task_id} completed\")\n",
    "\n",
    "async def sample_async_task(task_id):\n",
    "    \"\"\"Simulate async task with random delay\"\"\"\n",
    "    print(f\"Async Task {task_id} started\")\n",
    "    await asyncio.sleep(random.uniform(0.1, 0.5))\n",
    "    print(f\"Async Task {task_id} completed\")\n",
    "\n",
    "\n",
    "stage = Stage()\n",
    "# Submit Tasks\n",
    "for i in range(20):\n",
    "    stage.go(sample_task, i)\n",
    "    stage.go(sample_async_task, i)"
   ]
  }
 ],
 "metadata": {
  "kernelspec": {
   "display_name": "3.9",
   "language": "python",
   "name": "python3"
  },
  "language_info": {
   "codemirror_mode": {
    "name": "ipython",
    "version": 3
   },
   "file_extension": ".py",
   "mimetype": "text/x-python",
   "name": "python",
   "nbconvert_exporter": "python",
   "pygments_lexer": "ipython3",
   "version": "3.9.20"
  }
 },
 "nbformat": 4,
 "nbformat_minor": 2
}
