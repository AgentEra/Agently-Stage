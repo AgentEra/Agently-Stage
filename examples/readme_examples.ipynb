{
 "cells": [
  {
   "cell_type": "code",
   "execution_count": 1,
   "metadata": {},
   "outputs": [
    {
     "name": "stdout",
     "output_type": "stream",
     "text": [
      "Start Simulate Async Network Request...\n",
      "Start Simulate Sync Long Time Task...\n",
      "Response Return...\n",
      "Task Done...\n",
      "Network Request Data: Your input is Agently Stage is awesome! | Task Result: 3\n"
     ]
    }
   ],
   "source": [
    "import time\n",
    "import asyncio\n",
    "from agently_stage import Stage\n",
    "\n",
    "async def async_task(input_sentence:str):\n",
    "    print(\"Start Simulate Async Network Request...\")\n",
    "    await asyncio.sleep(1)\n",
    "    print(\"Response Return...\")\n",
    "    return f\"Network Request Data: Your input is { input_sentence }\"\n",
    "\n",
    "def sync_task(a:int, b:int):\n",
    "    print(\"Start Simulate Sync Long Time Task...\")\n",
    "    time.sleep(2)\n",
    "    print(\"Task Done...\")\n",
    "    return f\"Task Result: { a + b }\"\n",
    "\n",
    "stage = Stage()\n",
    "async_response = stage.go(async_task, \"Agently Stage is awesome!\")\n",
    "sync_response = stage.go(sync_task, 1, 2)\n",
    "stage.close()\n",
    "#Try remove this line below, it'll work perfectly too.\n",
    "print(async_response.get(), \"|\", sync_response.get())"
   ]
  },
  {
   "cell_type": "code",
   "execution_count": 2,
   "metadata": {},
   "outputs": [
    {
     "name": "stdout",
     "output_type": "stream",
     "text": [
      "Start Simulate Async Network Request...\n",
      "Start Simulate Sync Long Time Task...\n",
      "Response Return...\n",
      "Task Done...\n",
      "Network Request Data: Your input is Agently Stage is awesome! | Task Result: 3\n"
     ]
    }
   ],
   "source": [
    "with Stage() as stage:\n",
    "    async_response = stage.go(async_task, \"Agently Stage is awesome!\")\n",
    "    sync_response = stage.go(sync_task, 1, 2)\n",
    "\n",
    "print(async_response.get(), \"|\", sync_response.get())"
   ]
  },
  {
   "cell_type": "code",
   "execution_count": 3,
   "metadata": {},
   "outputs": [
    {
     "name": "stdout",
     "output_type": "stream",
     "text": [
      "Done: First\n",
      "Done: First\n",
      "Done: Second\n"
     ]
    }
   ],
   "source": [
    "import time\n",
    "from agently_stage import Stage\n",
    "stage = Stage()\n",
    "\n",
    "@stage.func\n",
    "def task(sentence:str):\n",
    "    time.sleep(1)\n",
    "    return f\"Done: { sentence }\"\n",
    "\n",
    "# Defined but hasn't run\n",
    "task\n",
    "\n",
    "# Start running\n",
    "task.go(\"First\")\n",
    "# or just `task()` like call a function normally\n",
    "\n",
    "# Block current thread and wait until done to get result\n",
    "result = task.wait()\n",
    "print(result)\n",
    "\n",
    "# Wait again won't restart it\n",
    "result_2 = task.wait()\n",
    "print(result_2)\n",
    "\n",
    "# Reset make the function can be started again\n",
    "task.reset()\n",
    "task(\"Second\")\n",
    "result_3 = task.wait()\n",
    "print(result_3)"
   ]
  },
  {
   "cell_type": "code",
   "execution_count": 4,
   "metadata": {},
   "outputs": [
    {
     "name": "stdout",
     "output_type": "stream",
     "text": [
      "Someone said: StageFunction is useful!\n"
     ]
    }
   ],
   "source": [
    "import time\n",
    "import asyncio\n",
    "from agently_stage import Stage\n",
    "\n",
    "# We create a handler in one dispatch\n",
    "with Stage() as stage_1:\n",
    "    @stage_1.func\n",
    "    async def handler(sentence):\n",
    "        return f\"Someone said: { sentence }\"\n",
    "    \n",
    "# We wait this handler in another dispatch\n",
    "with Stage() as stage_2:\n",
    "    def waiting():\n",
    "        result = handler.wait()\n",
    "        print(result)\n",
    "    stage_2.go(waiting)\n",
    "    # Some uncertain time later, the handler is called\n",
    "    time.sleep(1)\n",
    "    async def executor():\n",
    "        await asyncio.sleep(1)\n",
    "        handler(\"StageFunction is useful!\")\n",
    "    stage_2.go(executor)"
   ]
  },
  {
   "cell_type": "code",
   "execution_count": 5,
   "metadata": {},
   "outputs": [
    {
     "name": "stdout",
     "output_type": "stream",
     "text": [
      "1\n",
      "2\n",
      "3\n",
      "4\n",
      "5\n"
     ]
    }
   ],
   "source": [
    "import asyncio\n",
    "from agently_stage import Stage\n",
    "with Stage() as stage:\n",
    "    async def start_gen(n:int):\n",
    "        for i in range(n):\n",
    "            await asyncio.sleep(1)\n",
    "            yield i+1\n",
    "    gen = stage.go(start_gen, 5)\n",
    "    for item in gen:\n",
    "        print(item)"
   ]
  },
  {
   "cell_type": "code",
   "execution_count": 6,
   "metadata": {},
   "outputs": [
    {
     "name": "stdout",
     "output_type": "stream",
     "text": [
      "[1, 2, 3, 4, 5]\n"
     ]
    }
   ],
   "source": [
    "import asyncio\n",
    "from agently_stage import Stage\n",
    "with Stage() as stage:\n",
    "    async def start_gen(n:int):\n",
    "        for i in range(n):\n",
    "            await asyncio.sleep(1)\n",
    "            yield i+1\n",
    "    gen = stage.go(start_gen, 5)\n",
    "    result_list = gen.get()\n",
    "    print(result_list)"
   ]
  },
  {
   "cell_type": "code",
   "execution_count": 7,
   "metadata": {},
   "outputs": [
    {
     "name": "stdout",
     "output_type": "stream",
     "text": [
      "1\n",
      "2\n",
      "3\n",
      "4\n",
      "5\n"
     ]
    }
   ],
   "source": [
    "gen = stage.go(start_gen, 5, lazy=True)\n",
    "time.sleep(5)\n",
    "# Generator function `start_gen` start here only when gen is iterated over by `for`\n",
    "for item in gen:\n",
    "    print(item)"
   ]
  },
  {
   "cell_type": "code",
   "execution_count": 8,
   "metadata": {},
   "outputs": [
    {
     "name": "stdout",
     "output_type": "stream",
     "text": [
      "async streaming: 1\n",
      "async streaming: 2\n",
      "async streaming: 3\n",
      "async streaming: 4\n",
      "async streaming: 5\n",
      "streaming: 1\n",
      "streaming: 2\n",
      "streaming: 3\n",
      "streaming: 4\n",
      "streaming: 5\n",
      "[1, 2, 3, 4, 5]\n"
     ]
    }
   ],
   "source": [
    "import time\n",
    "import asyncio\n",
    "from agently_stage import Stage, Tunnel\n",
    "\n",
    "tunnel = Tunnel()\n",
    "\n",
    "with Stage() as stage:\n",
    "    def consumer():\n",
    "        time.sleep(1)\n",
    "        # You can use `tunnel.get_gen()` to get a `StageHybridGenerator` from tunnel instance\n",
    "        gen = tunnel.get_gen()\n",
    "        for data in gen:\n",
    "            print(\"streaming:\", data)\n",
    "    \n",
    "    async def async_consumer():\n",
    "        # Or you can just iterate over tunnel data by `for`/`async for`\n",
    "        async for data in tunnel:\n",
    "            print(\"async streaming:\", data)\n",
    "\n",
    "    async def provider(n:int):\n",
    "        for i in range(n):\n",
    "            tunnel.put(i + 1)\n",
    "            await asyncio.sleep(0.1)\n",
    "        # If you forget to .put_stop(), tunnel will close after 10s by default\n",
    "        tunnel.put_stop() \n",
    "\n",
    "    # State consumer first\n",
    "    stage.go(consumer)\n",
    "    stage.go(async_consumer)\n",
    "    # Provider start providing data sometime later\n",
    "    time.sleep(1)\n",
    "    stage.go(provider, 5)\n",
    "\n",
    "# You can also use `tunnel.get()` to get a final yielded item list\n",
    "print(tunnel.get())"
   ]
  },
  {
   "cell_type": "code",
   "execution_count": 12,
   "metadata": {},
   "outputs": [
    {
     "name": "stdout",
     "output_type": "stream",
     "text": [
      "I got: EventEmitter is Cool!\n",
      "I got: I'll say it again, EventEmitter is Cool!\n",
      "None\n"
     ]
    }
   ],
   "source": [
    "from agently_stage import Stage, EventEmitter\n",
    "\n",
    "emitter = EventEmitter()\n",
    "\n",
    "async def listener(data):\n",
    "    print(f\"I got: { data }\")\n",
    "    return True\n",
    "\n",
    "emitter.on(\"data\", listener)\n",
    "\n",
    "with Stage() as stage:\n",
    "    stage.go(lambda: emitter.emit(\"data\", \"EventEmitter is Cool!\"))\n",
    "\n",
    "responses = emitter.emit(\"data\", \"I'll say it again, EventEmitter is Cool!\")\n",
    "\n",
    "for response in responses:\n",
    "    print(response.get())"
   ]
  }
 ],
 "metadata": {
  "kernelspec": {
   "display_name": "3.9",
   "language": "python",
   "name": "python3"
  },
  "language_info": {
   "codemirror_mode": {
    "name": "ipython",
    "version": 3
   },
   "file_extension": ".py",
   "mimetype": "text/x-python",
   "name": "python",
   "nbconvert_exporter": "python",
   "pygments_lexer": "ipython3",
   "version": "3.9.20"
  }
 },
 "nbformat": 4,
 "nbformat_minor": 2
}
